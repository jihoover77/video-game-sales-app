{
 "cells": [
  {
   "cell_type": "markdown",
   "id": "cebeca81",
   "metadata": {},
   "source": [
    "# Video Game Sales Prediction"
   ]
  },
  {
   "cell_type": "markdown",
   "id": "ee5c4789",
   "metadata": {},
   "source": [
    "## Read in the data path and libraries"
   ]
  },
  {
   "cell_type": "code",
   "execution_count": 1,
   "id": "eae49b25",
   "metadata": {},
   "outputs": [],
   "source": [
    "DATA_PATH = '../notebooks/Data/vgsales/'\n",
    "import pandas as pd\n",
    "import numpy as np\n",
    "import matplotlib.pyplot as plt\n",
    "from sklearn.metrics import mean_absolute_error"
   ]
  },
  {
   "cell_type": "markdown",
   "id": "b18f6de5",
   "metadata": {},
   "source": [
    "##  Wrangle Function"
   ]
  },
  {
   "cell_type": "code",
   "execution_count": 2,
   "id": "b6a5c03a",
   "metadata": {},
   "outputs": [],
   "source": [
    "def wrangle(filepath):\n",
    "    # Read in the file\n",
    "    df = pd.read_csv(filepath)\n",
    "\n",
    "    # Drop all the null values\n",
    "    df.dropna(inplace=True)\n",
    "    \n",
    "    # Set the year as the index\n",
    "    df = df.sort_values('Year')\n",
    "    df = df.set_index('Year')\n",
    "\n",
    "\n",
    "    # Drop a unique column\n",
    "    df.drop(columns=['Rank'], inplace=True)\n",
    "    \n",
    "    # Drop high cardinality column\n",
    "    df.drop(columns=['Name'], inplace=True)\n",
    "    \n",
    "    # Find the top 20 values in Publisher add to a list\n",
    "    top_20_publishers = df['Publisher'].value_counts()[:20].index \n",
    "    \n",
    "    # Define a function that locates the publisher in the top_20_publishers list \n",
    "    # and returns the publisher's name or Other\n",
    "    def top_20(publisher):\n",
    "      if publisher in top_20_publishers:\n",
    "        return publisher\n",
    "      else:\n",
    "        return 'Other'\n",
    "\n",
    "    df['Publisher'] = df['Publisher'].apply(top_20)\n",
    "\n",
    "    # Drop the 'leaky features'\n",
    "    leaky_cols = ['NA_Sales', 'EU_Sales', 'JP_Sales', 'Other_Sales']\n",
    "    df = df.drop(columns=leaky_cols)\n",
    "    \n",
    "    return df\n",
    "df = wrangle(DATA_PATH+'vgsales.csv')"
   ]
  },
  {
   "cell_type": "markdown",
   "id": "56c7b6f1",
   "metadata": {},
   "source": [
    "## Split Data into Feature Matrix and Target\n",
    "\n",
    "The target is the column Global Sales"
   ]
  },
  {
   "cell_type": "code",
   "execution_count": 3,
   "id": "f6fd47a8",
   "metadata": {},
   "outputs": [],
   "source": [
    "target = 'Global_Sales'\n",
    "X = df.drop(columns=target)\n",
    "y = df[target]"
   ]
  },
  {
   "cell_type": "markdown",
   "id": "46acb3a8",
   "metadata": {},
   "source": [
    "## Do train/validation split by time data "
   ]
  },
  {
   "cell_type": "code",
   "execution_count": 4,
   "id": "3b1c4720",
   "metadata": {},
   "outputs": [
    {
     "data": {
      "text/plain": [
       "16291"
      ]
     },
     "execution_count": 4,
     "metadata": {},
     "output_type": "execute_result"
    }
   ],
   "source": [
    "X_train, y_train = X.iloc[0:13291], y.iloc[0:13291] \n",
    "X_val, y_val = X.iloc[-3000:], y.iloc[-3000:]\n",
    "len(X_train) + len(X_val)"
   ]
  },
  {
   "cell_type": "markdown",
   "id": "1fe86145",
   "metadata": {},
   "source": [
    "### Fixing the skewed dataset\n",
    "\n",
    "Because the sales column was heavily skewed to the right I log transformed the data in it."
   ]
  },
  {
   "cell_type": "code",
   "execution_count": 5,
   "id": "fc0b7135",
   "metadata": {},
   "outputs": [],
   "source": [
    "y_train_log = np.log1p(y_train)\n",
    "y_val_log = np.log1p(y_val)"
   ]
  },
  {
   "cell_type": "markdown",
   "id": "e8748798",
   "metadata": {},
   "source": [
    "## Establish Baseline"
   ]
  },
  {
   "cell_type": "code",
   "execution_count": 6,
   "id": "add6ed33",
   "metadata": {},
   "outputs": [
    {
     "name": "stdout",
     "output_type": "stream",
     "text": [
      "Baseline Mean Absolute Error: 0.510627 million\n"
     ]
    }
   ],
   "source": [
    "y_log = np.log1p(y)\n",
    "y_pred_log = [y_log.mean()]*len(y)\n",
    "y_pred = np.expm1(y_pred_log)\n",
    "print(f'Baseline Mean Absolute Error: {mean_absolute_error(y, y_pred):,.6f} million')"
   ]
  },
  {
   "cell_type": "markdown",
   "id": "8ed45b71",
   "metadata": {},
   "source": [
    "## Building Models"
   ]
  },
  {
   "cell_type": "markdown",
   "id": "1260c9a7",
   "metadata": {},
   "source": [
    "### Ridge"
   ]
  },
  {
   "cell_type": "code",
   "execution_count": 7,
   "id": "d8f50e85",
   "metadata": {},
   "outputs": [],
   "source": [
    "from sklearn.linear_model import Ridge\n",
    "from sklearn.pipeline import make_pipeline\n",
    "from category_encoders import OneHotEncoder, OrdinalEncoder\n",
    "model_ridge = make_pipeline(\n",
    "    OrdinalEncoder(),\n",
    "    Ridge(alpha=1.0)\n",
    ")\n",
    "\n",
    "model_ridge.fit(X_train, y_train_log);"
   ]
  },
  {
   "cell_type": "markdown",
   "id": "ec468c02",
   "metadata": {},
   "source": [
    "### XGBoost Regressor Model"
   ]
  },
  {
   "cell_type": "code",
   "execution_count": 8,
   "id": "fead0097",
   "metadata": {},
   "outputs": [],
   "source": [
    "from xgboost import XGBRegressor\n",
    "pipeline = make_pipeline(\n",
    "    OrdinalEncoder(),\n",
    "    XGBRegressor(n_jobs=-1, booster='gblinear')\n",
    ")\n",
    "\n",
    "pipeline.fit(X_train, y_train_log);"
   ]
  },
  {
   "cell_type": "markdown",
   "id": "892028bf",
   "metadata": {},
   "source": [
    "## Check Metrics"
   ]
  },
  {
   "cell_type": "markdown",
   "id": "e3b93c62",
   "metadata": {},
   "source": [
    "### Ridge"
   ]
  },
  {
   "cell_type": "code",
   "execution_count": 9,
   "id": "cc5694d2",
   "metadata": {},
   "outputs": [
    {
     "name": "stdout",
     "output_type": "stream",
     "text": [
      "Ridge Regression Training MAE:  0.510101 million\n",
      "Ridge Regression Validation MAE:  0.485425 million\n"
     ]
    }
   ],
   "source": [
    "y_pred_log = model_ridge.predict(X_train)\n",
    "y_pred = np.expm1(y_pred_log)\n",
    "y_pred_log = model_ridge.predict(X_val)\n",
    "y_pred_val = np.expm1(y_pred_log)\n",
    "\n",
    "print(f'Ridge Regression Training MAE:  {mean_absolute_error(y_train, y_pred):,.6f} million')\n",
    "print(f'Ridge Regression Validation MAE:  {mean_absolute_error(y_val, y_pred_val):,.6f} million')"
   ]
  },
  {
   "cell_type": "markdown",
   "id": "e78eed85",
   "metadata": {},
   "source": [
    "### XGBoost"
   ]
  },
  {
   "cell_type": "code",
   "execution_count": 10,
   "id": "9243622c",
   "metadata": {},
   "outputs": [
    {
     "name": "stdout",
     "output_type": "stream",
     "text": [
      "XGboost Training MAE:  0.510150 million\n",
      "XGboost Validation MAE:  0.485433 million\n"
     ]
    }
   ],
   "source": [
    "y_xgboost_pred_log = pipeline.predict(X_train)\n",
    "y_pred_xgboost = np.expm1(y_xgboost_pred_log)\n",
    "y_xgboost_pred_log = pipeline.predict(X_val)\n",
    "y_pred_val_xgboost = np.expm1(y_xgboost_pred_log)\n",
    "\n",
    "print(f'XGboost Training MAE:  {mean_absolute_error(y_train, y_pred_xgboost):,.6f} million')\n",
    "print(f'XGboost Validation MAE:  {mean_absolute_error(y_val, y_pred_val_xgboost):,.6f} million')"
   ]
  },
  {
   "cell_type": "markdown",
   "id": "a178b45d",
   "metadata": {},
   "source": [
    "### The code below is for the Plotly Dash app"
   ]
  },
  {
   "cell_type": "code",
   "execution_count": 11,
   "id": "fb85e098",
   "metadata": {},
   "outputs": [
    {
     "data": {
      "text/plain": [
       "['pipeline.joblib']"
      ]
     },
     "execution_count": 11,
     "metadata": {},
     "output_type": "execute_result"
    }
   ],
   "source": [
    "from joblib import dump\n",
    "dump(pipeline, 'pipeline.joblib', compress=True)"
   ]
  },
  {
   "cell_type": "markdown",
   "id": "00604db0",
   "metadata": {},
   "source": [
    "## Communication"
   ]
  },
  {
   "cell_type": "markdown",
   "id": "a27354a7",
   "metadata": {},
   "source": [
    "### Coefficient ranks"
   ]
  },
  {
   "cell_type": "code",
   "execution_count": 12,
   "id": "4538883f",
   "metadata": {},
   "outputs": [
    {
     "data": {
      "image/png": "[encoded data removed]",
      "text/plain": [
       "<Figure size 432x288 with 1 Axes>"
      ]
     },
     "metadata": {
      "needs_background": "light"
     },
     "output_type": "display_data"
    }
   ],
   "source": [
    "coefficients = pipeline.named_steps['xgbregressor'].coef_\n",
    "feature_names = X_val.columns\n",
    "feat_coefs = pd.Series(coefficients, index=feature_names).sort_values()\n",
    "feat_coefs.tail(10).plot(kind='barh')\n",
    "plt.title('Top Ten Coefficients')\n",
    "plt.xlabel('Coefficients (no. sales in millions)', color='orange')\n",
    "plt.ylabel('Feature Names', color='teal');"
   ]
  },
  {
   "cell_type": "markdown",
   "id": "3164ab81",
   "metadata": {},
   "source": [
    "### Permutation Importances"
   ]
  },
  {
   "cell_type": "code",
   "execution_count": 13,
   "id": "534ce97e",
   "metadata": {},
   "outputs": [
    {
     "data": {
      "image/png": "[encoded data removed]",
      "text/plain": [
       "<Figure size 432x288 with 1 Axes>"
      ]
     },
     "metadata": {
      "needs_background": "light"
     },
     "output_type": "display_data"
    }
   ],
   "source": [
    "from sklearn.inspection import permutation_importance\n",
    "perm_imps = permutation_importance(\n",
    "    pipeline,\n",
    "    X_val,\n",
    "    y_val,\n",
    "    n_repeats = 5,\n",
    "    n_jobs = -1\n",
    ")\n",
    "\n",
    "perm_dict = {'perm_mean': perm_imps.importances_mean,\n",
    "             'perm_std': perm_imps.importances_std}\n",
    "\n",
    "df = pd.DataFrame(perm_dict, index=X_val.columns).sort_values('perm_mean')\n",
    "\n",
    "df.tail(10).plot(kind='barh')\n",
    "plt.xlabel('Permutation Mean')\n",
    "plt.ylabel('Feature Names')\n",
    "plt.title('Feature Importance by Permutation');"
   ]
  }
 ],
 "metadata": {
  "kernelspec": {
   "display_name": "Python 3",
   "language": "python",
   "name": "python3"
  },
  "language_info": {
   "codemirror_mode": {
    "name": "ipython",
    "version": 3
   },
   "file_extension": ".py",
   "mimetype": "text/x-python",
   "name": "python",
   "nbconvert_exporter": "python",
   "pygments_lexer": "ipython3",
   "version": "3.9.4"
  }
 },
 "nbformat": 4,
 "nbformat_minor": 5
}
